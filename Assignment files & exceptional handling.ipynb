{
 "cells": [
  {
   "cell_type": "code",
   "execution_count": null,
   "id": "fe94c5a3-0654-416f-afdb-aa55eefb8145",
   "metadata": {},
   "outputs": [],
   "source": [
    "#Q1.  What is the difference between interpreted and compiled languages?\n",
    "'''\n",
    "Ans1.  Interpreted Language:\n",
    "\n",
    "        1. Execution : Code is executed line-by-line by an interpreter.\n",
    "        2. Translation : No separate compilation step; the interpreter translates code on the fly.\n",
    "        3. Speed : Generally slower beacuse each line is translated and executed in real-time.\n",
    "        4. Example : Python, Javascript,Ruby.\n",
    "\n",
    "       Compiled Languages:\n",
    "\n",
    "        1. Execution : Code is translated into machine code by a compiler before execution.\n",
    "        2. Translation : Requires a separate compilation step to convert source code into an \n",
    "                         executable file.\n",
    "        3. Speed : Generally faster because the code is already translated into machine code.\n",
    "        4. Examples: C,C++,Rust.\n",
    "'''"
   ]
  },
  {
   "cell_type": "code",
   "execution_count": null,
   "id": "c1957d6a-a2df-460c-9947-18c027dad858",
   "metadata": {},
   "outputs": [],
   "source": [
    "#Q2. What is exception handling in Python?\n",
    "'''\n",
    "Ans2. Exception handling in python is a way to manage errors that occur during the execution of a program.\n",
    "      It allows you to handle errors gracefully and continue running the program without crashing.\n",
    "\n",
    "'''"
   ]
  },
  {
   "cell_type": "code",
   "execution_count": null,
   "id": "ef13d3fe-03eb-4083-9bae-62ba17a45a61",
   "metadata": {},
   "outputs": [],
   "source": [
    "#Q3. What is the purpose of the finally block in exception handling\n",
    "\"\"\"\n",
    "Ans3. The finally block in python is used to ensure that a certain section of code always runs no matter what \n",
    "      happens in the try and except block.\n",
    "\"\"\""
   ]
  },
  {
   "cell_type": "code",
   "execution_count": null,
   "id": "8f258842-8d9e-4720-b51a-859fae57ec09",
   "metadata": {},
   "outputs": [],
   "source": [
    "#Q4.  What is logging in Python?\n",
    "\"\"\"\n",
    "Ans4. Logging is a powerful tool  for tracking the flow and state of your code/ program, making it easier\n",
    "      to identify and fix issues.\n",
    "      - It shows how program behave over time.\n",
    "      - It is useful for understanding, monitoring and debugging of your code.\n",
    "\"\"\""
   ]
  },
  {
   "cell_type": "code",
   "execution_count": 9,
   "id": "dd7ce91a-3958-493c-aa87-7d079ce0a486",
   "metadata": {},
   "outputs": [],
   "source": [
    "#Q5.  What is the significance of the __del__ method in Python?\n",
    "\"\"\"\n",
    "Ans5. The __del__ method in python is like a cleanup crew for objects. When an object is about to \n",
    "      destroyed, the __del__ method is called to clean up any resources the object was using, like \n",
    "      closing files or network connections.\n",
    "\n",
    "      - It helps releases resources that the object was using.\n",
    "      - Python call this method automatically when the object is no longer needed.\n",
    "      - Example :\n",
    "                  If you have an object that opens a file, the __del__ method can make sure the file\n",
    "                  is closed when an object is destroyed.       \n",
    "\"\"\"\n",
    "class Myclass:\n",
    "    def __init__(self,name):\n",
    "        self.name = name\n",
    "        print(\"object\",name)\n",
    "\n",
    "    def __del__(self):\n",
    "        print(\"object\",name)\n",
    "        "
   ]
  },
  {
   "cell_type": "code",
   "execution_count": 11,
   "id": "d249a154-fae1-431c-9440-a4017acb0906",
   "metadata": {},
   "outputs": [
    {
     "name": "stdout",
     "output_type": "stream",
     "text": [
      "object harsh\n"
     ]
    }
   ],
   "source": [
    "obj = Myclass(\"harsh\")"
   ]
  },
  {
   "cell_type": "code",
   "execution_count": 15,
   "id": "f353e289-6be5-40a4-afc7-62a02c080a36",
   "metadata": {},
   "outputs": [],
   "source": [
    "del obj"
   ]
  },
  {
   "cell_type": "code",
   "execution_count": null,
   "id": "774e0762-9d6e-4893-adb7-8be93d4811ee",
   "metadata": {},
   "outputs": [],
   "source": [
    "#Q6.  What is the difference between import and from ... import in Python?\n",
    "\"\"\"\n",
    "Ans6. The import and from import statements in python are used to bring in modules and specific\n",
    "      attributes from modules.\n",
    "\n",
    "      1. Import statement:\n",
    "      - Usage : imports the entire module.\n",
    "      - Syntax : import module_name\n",
    "      - Access : You need to use the module name to access its functions and attributes.\n",
    "      - Example : import os\n",
    "\n",
    "      2. from ...immport Statement\n",
    "      - Usage : imports specific attributes or functions from a module.\n",
    "      - Syntax : from module_name import attribue_name.\n",
    "      - Access : You can directly use the imported attribute or function without the module name.\n",
    "      - Example : from functools import reduce\n",
    "\"\"\""
   ]
  },
  {
   "cell_type": "code",
   "execution_count": null,
   "id": "8d85da1f-11a0-4ac7-9340-e2490d459978",
   "metadata": {},
   "outputs": [],
   "source": [
    "#Q7. How can you handle multiple exceptions in Python.\n",
    "\"\"\"\n",
    "Ans 7. Multiple exceptions in python can be handle using Mulitple except block, single except block with tuple and generic \n",
    "       Exception handling.\n",
    "       \n",
    "\"\"\"\n"
   ]
  },
  {
   "cell_type": "code",
   "execution_count": 5,
   "id": "e9d4ebda-8126-46a0-a357-661953f37d80",
   "metadata": {},
   "outputs": [
    {
     "name": "stdout",
     "output_type": "stream",
     "text": [
      "1.There is some in code due to  unsupported operand type(s) for /: 'int' and 'str'\n"
     ]
    }
   ],
   "source": [
    "#ANS7.  For example= 1. Multiple except block\n",
    "\n",
    "try:\n",
    "    20/\"9\"\n",
    "except TypeError as e:\n",
    "    print(\"1.There is some in code due to \",e)\n",
    "except ValueError as e:\n",
    "    print(\"There is some error due to \",e)\n"
   ]
  },
  {
   "cell_type": "code",
   "execution_count": 7,
   "id": "f155305d-71d4-40c3-a054-b611c4f635fe",
   "metadata": {},
   "outputs": [
    {
     "name": "stdout",
     "output_type": "stream",
     "text": [
      "There is some error in code due to  division by zero\n"
     ]
    }
   ],
   "source": [
    "#ANS7.   2. Single except block with tuple\n",
    "\n",
    "try:\n",
    "    20/0\n",
    "except (ValueError,TypeError,ZeroDivisionError) as e:\n",
    "    print(\"There is some error in code due to \",e)\n",
    "\n"
   ]
  },
  {
   "cell_type": "code",
   "execution_count": 9,
   "id": "5a872204-4718-4dee-9e6b-0e0d31c36405",
   "metadata": {},
   "outputs": [
    {
     "name": "stdout",
     "output_type": "stream",
     "text": [
      "There is some error due to  [Errno 2] No such file or directory: 'newfile.txt'\n"
     ]
    }
   ],
   "source": [
    "#ANS7.   3. Generic Exception handling\n",
    "\n",
    "try:\n",
    "    f = open(\"newfile.txt\",\"r\")\n",
    "except Exception as e:\n",
    "    print(\"There is some error due to \",e)"
   ]
  },
  {
   "cell_type": "code",
   "execution_count": null,
   "id": "c74e50d3-84b2-4380-9a6b-fe6a8c7634e7",
   "metadata": {},
   "outputs": [],
   "source": [
    "#Q8.  What is the purpose of the with statement when handling files in Python?\n",
    "\"\"\"\n",
    "ANs8. The with statement in python used to handle files more efficiently and safely.\n",
    "\n",
    "     1. Automatic Resource Management:\n",
    "               The with statement automatically take care of opening and closing the file. This means\n",
    "               you don't have to explicitly close the file using file.close(), which reduces the \n",
    "               risk of leaving a file open accidentally.\n",
    "\n",
    "     2. Exception Handling:\n",
    "               If an exception occurs within the with block, the file will be properly closed. \n",
    "               This helps prevent resource leaks and ensure that the file is always closed, even if an\n",
    "               error occure.\n",
    "\n",
    "     3. Cleaner Code:\n",
    "               Using the with statement make your code more readable and concise.\n",
    "                        \n",
    "\"\"\"\n"
   ]
  },
  {
   "cell_type": "code",
   "execution_count": null,
   "id": "2f9ff3be-d6e0-4951-8ab4-6a8247c5b7f0",
   "metadata": {},
   "outputs": [],
   "source": [
    "#Q9.  What is the difference between multithreading and multiprocessing?\n",
    "\"\"\"\n",
    "Ans9. Multithreading :\n",
    "\n",
    "      1. What it is: Running mulitple small tasks(threads) within a single program.\n",
    "      2. Memory : All threads share the same memory spce.\n",
    "      3. Best for : Tasks that involve waiting like reading files or making network requests\n",
    "      4. Example : Imagine cooking a meal and having multiple tasks like chopping veges, boiling \n",
    "                   water and fryinhg. You can do these tasks simultaneously, but they all share the \n",
    "                   same kitchen space.\n",
    "      Multiprocessing :\n",
    "\n",
    "      1. What it is: Running multiples spearate programs(processes) at the same time.\n",
    "      2. Memory : Each process has its own memory space.\n",
    "      3. Best for : Tasks that require a lot of computation like complex calculations.\n",
    "      4. Example : Iamgine you have multiple chefs in separate kitchens, each cooking their own\n",
    "                   meal. They don't share the same space, so they can work independently without\n",
    "                   interfering with each other.\n",
    "\n",
    "\"\"\"\n"
   ]
  },
  {
   "cell_type": "code",
   "execution_count": null,
   "id": "59d8f742-fce8-4a01-b600-fea170a2d356",
   "metadata": {},
   "outputs": [],
   "source": [
    "#Q10. What are the advantages of using logging in a program?\n",
    "\"\"\"\n",
    "ANS10. Logging in a program is like keeping a diary of what your program is doing. Here are the \n",
    "        advantages:\n",
    "\n",
    "        1. Finding Bugs :\n",
    "                        Helps you see what went wrong when your program has issues.\n",
    "        2. Monitoring :\n",
    "                        Logging helps you monitoring the behaviour of your program in real-time.\n",
    "                        you can keep an eye on critical events, performance metrics and other important\n",
    "                        aspect of your program.\n",
    "        3. Tracking Errors:\n",
    "                        It records the errors so that you can understand the root cause of the program\n",
    "                        and fix them later.\n",
    "        4. Performance Analysis:\n",
    "                        LOGGING helps you to see how well your program is running and helps in \n",
    "                        indentify the bottlenecks or areas which need optimization.\n",
    "        5. Historical Data:\n",
    "                        It Keeps the records of program execution, which is usefull for looking\n",
    "                        past behaviour, troubleshooting issues and make informed decisions.\n",
    "        6. Communictaion :\n",
    "                        Logs can be used to communicate important information to developer,\n",
    "                        sytem admins and other satkeholder.\n",
    "                        \n",
    "\"\"\"\n"
   ]
  },
  {
   "cell_type": "code",
   "execution_count": null,
   "id": "e5acf93c-72e2-429e-aada-28cca0802e48",
   "metadata": {},
   "outputs": [],
   "source": [
    "#Q11. What is memory management in Python.\n",
    "\"\"\"\n",
    "Ans11.  Memory management involves the allocation abd deallocation of memory to ensure efficient use\n",
    "        of resources.\n",
    "\n",
    "        1. Automatic memory management : \n",
    "                        Python automatically manages memory for you. You don't need to manually allocate\n",
    "                         or free memory.\n",
    "        2. Reference Counting : \n",
    "                        Python keeps track of how many references there are to each object. When an \n",
    "                        object is no longer needed,python automatically deletes it.\n",
    "        3. Garbage Collection :\n",
    "                        Python has a garbage collector that hepls clean up unused objects, especially\n",
    "                        those involved in circular references (When two object refernece each other).\n",
    "        \n",
    "\"\"\""
   ]
  },
  {
   "cell_type": "code",
   "execution_count": null,
   "id": "9839a42b-dfdc-45ad-a41a-6bafbba80a98",
   "metadata": {},
   "outputs": [],
   "source": [
    "#Q12.  What are the basic steps involved in exception handling in Python.\n",
    "\"\"\"\n",
    "Ans 12. The basic steps involved in exception handling are:\n",
    "        1. Try Block:\n",
    "                    Write the code that might cause an error inside a try block. \n",
    "        2. Except Block:\n",
    "                    If an error occurs, the code inside the except block will run. You can specify \n",
    "                    different types of exceptions to handle specific errors.\n",
    "        3. Else Block:\n",
    "                    This block runs if no exception occur in try block.\n",
    "        4. Finally Block:\n",
    "                    This block runs no matter what, whether an exception occours or not.\n",
    "                    \n",
    "\"\"\""
   ]
  },
  {
   "cell_type": "code",
   "execution_count": 27,
   "id": "a2f77cad-f6ae-41ca-a98f-a64795511af5",
   "metadata": {},
   "outputs": [
    {
     "name": "stdout",
     "output_type": "stream",
     "text": [
      "there is an issue with the code [Errno 2] No such file or directory: 'file23.txt'\n",
      "I am harsh\n"
     ]
    }
   ],
   "source": [
    "# for example: \n",
    "try:\n",
    "    open(\"file23.txt\" , \"r\") \n",
    "except Exception as e:\n",
    "    print(\"there is an issue with the code\",e)\n",
    "else:\n",
    "    print(5+6)\n",
    "finally:\n",
    "    print(\"I am harsh\")\n",
    "    "
   ]
  },
  {
   "cell_type": "code",
   "execution_count": null,
   "id": "d1b612b8-4329-487b-87e0-5319f504bebf",
   "metadata": {},
   "outputs": [],
   "source": [
    "#Q13.  Why is memory management important in Python?\n",
    "\"\"\"\n",
    "Ans13. Memory management is important because:\n",
    "        1. Efficiency :\n",
    "                    Proper memory management ensured your program uses memory efficiently, preventing\n",
    "                    memory leaks and reducing the risk of out of memory.\n",
    "        2. Performance :\n",
    "                    Efficient memory management can improve your program's performance by reducing the\n",
    "                    time spent on memory allocation and deallocation.\n",
    "        3. Stability :\n",
    "                    Proper memory management helps maintain your program's stability by preventing \n",
    "                    crashes and other issues related to memory usage.\n",
    "\"\"\""
   ]
  },
  {
   "cell_type": "code",
   "execution_count": null,
   "id": "73a53d4e-c79f-4bb4-9764-e8a0887ef9d0",
   "metadata": {},
   "outputs": [],
   "source": [
    "#Q14.What is the role of try and except in exception handling.\n",
    "\"\"\"\n",
    "ANS14. The roles of try and except blocks are:\n",
    "\n",
    "        1. Try block:\n",
    "                    The try block contains the code that might cause an exception. This is where \n",
    "                    you to write a code that you want to monitors the errors.\n",
    "        \n",
    "        2. Except Block:\n",
    "                   - The except block contains the code that runs if an exception occur in try \n",
    "                     block. You can specify different types of exception to handle specific \n",
    "                     errors.\n",
    "                   - If an exceptions is raised in the try block, the program jumps to the \n",
    "                     except block to handle the error.\n",
    "\"\"\""
   ]
  },
  {
   "cell_type": "code",
   "execution_count": 38,
   "id": "8b48dbcb-72b7-445d-8af8-a5755a802ebb",
   "metadata": {},
   "outputs": [
    {
     "name": "stdout",
     "output_type": "stream",
     "text": [
      "There is an issue with the code division by zero\n"
     ]
    }
   ],
   "source": [
    "#fOR EXAMPLE\n",
    "try:          \n",
    "    5/0                                    # here 5/0 cause an exception. that why it written in try block\n",
    "except Exception as e:  # except block catches the error and handle the error by showing division by zero error.\n",
    "    print(\"There is an issue with the code\",e)"
   ]
  },
  {
   "cell_type": "code",
   "execution_count": null,
   "id": "21293269-7c3a-496b-a4c8-91eb13479b00",
   "metadata": {},
   "outputs": [],
   "source": [
    "#Q15.  How does Python's garbage collection system work?\n",
    "\"\"\"\n",
    "Ans15. Python's garbage collection system helps manage memory automatically by getting rid of\n",
    "       objects that are no longer needed.\n",
    "       Here how it works :\n",
    "\n",
    "       1. Reference Counting :\n",
    "                    - Every object has a count of how many times it's being used (referenced).\n",
    "                    - When you creat a new reference, the count goes up.\n",
    "                    - When you delete a reference, the count goes down.\n",
    "                    - If the count drops to zero(maning no one is using the object anymore)\n",
    "                      Python automatically deletes the object to free up memory.\n",
    "\n",
    "        2. Garbage Collector :\n",
    "                    - Sometimes, objects reference each other, creating a cycle(like a loop).\n",
    "                    - Even if no one else us using these objects, their reference counts don't\n",
    "                      drop to zero because they reference to each other.\n",
    "                    - Python has a garbage collector that looks for these cycles and deletes the \n",
    "                      objects involved to free up memory.\n",
    "\"\"\""
   ]
  },
  {
   "cell_type": "code",
   "execution_count": null,
   "id": "62e69dd9-dc5b-44e3-8e64-b8f0d57c95d7",
   "metadata": {},
   "outputs": [],
   "source": [
    "#Q16. What is the purpose of the else block in exception handling\n",
    "\"\"\"\n",
    "Ans 16. The else block in exception handling is used to define code that should run only if no exceptions\n",
    "        are raised in the try block.\n",
    "\"\"\""
   ]
  },
  {
   "cell_type": "code",
   "execution_count": 1,
   "id": "e52f9426-e026-4203-8e15-dfcc65be3a7b",
   "metadata": {},
   "outputs": [
    {
     "name": "stdout",
     "output_type": "stream",
     "text": [
      "else block run successfully  2.0\n",
      "my name is harsh\n",
      "13\n"
     ]
    }
   ],
   "source": [
    "#for example\n",
    "try:\n",
    "    a = 10/5\n",
    "except exception as e:\n",
    "    print(\"There is an issue with the code \",e)\n",
    "else:\n",
    "    print(\"else block run successfully \", a)# Here else block run smoothly beacuse there is no exception in try block\n",
    "    print(\"my name is harsh\")\n",
    "    print(5+8)"
   ]
  },
  {
   "cell_type": "code",
   "execution_count": null,
   "id": "75821d14-c612-4016-9cdb-e9aaba782729",
   "metadata": {},
   "outputs": [],
   "source": []
  },
  {
   "cell_type": "code",
   "execution_count": null,
   "id": "2cfb05f7-6d71-463f-84fb-1e1741964534",
   "metadata": {},
   "outputs": [],
   "source": [
    "#Q17 What are the common logging levels in Python?\n",
    "\"\"\"\n",
    "Ans17. In python, the logging module provides several logging levels to categorize the severity of log\n",
    "        messages.\n",
    "        Here are some common logging level are:\n",
    "\n",
    "        1. DEBUG : \n",
    "                    Debug is the lowest level of logging. To give detailed imformation of any variable,\n",
    "                    message while doing debugging\n",
    "        2. INFO :\n",
    "                    This is used to convey the code is working as expected.\n",
    "        3. WARNING :\n",
    "                    An indictaion that something unexpected happened, or indicative of some problem\n",
    "                    in near future.(.g. 'disk space is low')\n",
    "        4. ERROR :\n",
    "                    Due to some serious problem, the software has not been able to perform some function.\n",
    "        5. CRITICAL :\n",
    "                    Termination of the program\n",
    "\n",
    "        # The above logging level is executed in the same order.\n",
    "          For example: setting the logging level  to WARNING will capture warning, error, and critical\n",
    "                       messages, but ignore DEBUG and INFO messages\n",
    "\"\"\""
   ]
  },
  {
   "cell_type": "code",
   "execution_count": 5,
   "id": "103dfcc3-6af5-43cb-ba24-7b9e383faeed",
   "metadata": {},
   "outputs": [],
   "source": [
    "#Q18. What is the difference between os.fork() and multiprocessing in Python?\n",
    "\"\"\"\n",
    "Ans18. os.fork() and mulitprocessing are the ways to create new process in pyhton, but they have\n",
    "       some key differences:\n",
    "\n",
    "       1. os.fork()\n",
    "           - Def : A low-level system call that creates a new process by duplicating the current \n",
    "                   process.\n",
    "           - Memory : The new process(child) is a exact copy of the current process(parent),\n",
    "                       including the memory spce.\n",
    "           - Platform : Availabe only on unix like systems(e.g.,linux, macos).\n",
    "           - Use case:\n",
    "                     Usefull for creating new processes in a straight manner, but careful handling of\n",
    "                     shared resources.\n",
    "        2. Multiprocessing :\n",
    "            - Def : A high-level module in python that provides a way to create and manage multi \n",
    "                    processs.\n",
    "            - Memory : Each process has its own memory space, avoiding issues with shared resources.\n",
    "            - Platform : Cross platform (works on bith unix- like system and Windows).\n",
    "            - Use case : Easier to use and manage compare to os.fork(), with bult-in support\n",
    "                         for process pools, queues and other feature.\n",
    "\"\"\""
   ]
  },
  {
   "cell_type": "code",
   "execution_count": null,
   "id": "69db599e-0f55-4071-9b97-33e5df76a144",
   "metadata": {},
   "outputs": [],
   "source": [
    "#Q19. What is the importance of closing a file in Python?\n",
    "\"\"\"\n",
    "ANS19. Closing a file in python is important for several reasons:\n",
    "\n",
    "       1. Resource Management:\n",
    "                   When a file is opened, it consumes system resources. Closing the file releases these\n",
    "                   resources, making them available for other processes.\n",
    "                   \n",
    "       2. Data Integrity:\n",
    "                   Closing a file ensure that all data is properly written to the file. If a file\n",
    "                   not closed, than some data may remain in buffer and not be saved leading to data\n",
    "                   loss and corruption.\n",
    "                   \n",
    "       3. Avoiding File lock:\n",
    "                   On some systems, an open file may be locked which means if you open a file, write something\n",
    "                   and you forgot to close the file. So, it will create an error when you open a second file \n",
    "                   because you didn't close the first file.\n",
    "                   Closing the file removes the lock, allowing other programs to access the file without any\n",
    "                   issues.\n",
    "       4. Preventing Errors:\n",
    "                   Leaving a file open can lead to errors and unpredictable behaviour in your program.\n",
    "                   \n",
    "\"\"\""
   ]
  },
  {
   "cell_type": "code",
   "execution_count": null,
   "id": "243647ee-dd81-4984-bbc8-e9c86390db0c",
   "metadata": {},
   "outputs": [],
   "source": [
    "#Q20. What is the difference between file.read() and file.readline() in Python\n",
    "'''\n",
    "Ans20. file.read():\n",
    "                - Reads the entire content of the file as a single string.\n",
    "                - You can specify the number of characters to read by passing an argument to read().\n",
    "                  If no argument is provided, it reads the entire file. \n",
    "\n",
    "                 Example :with open(\"20_question.txt\",\"r\") as f:\n",
    "                                a =f.read()\n",
    "                                print(a)\n",
    "                    It reads entire content in the file.\n",
    "\n",
    "       file.readline():\n",
    "                - Reads the single line from the file.\n",
    "                - Each call to readline() reads the next line until the end of the file is reached.\n",
    "                Example:  with open(\"20_question.txt\",\"r\") as f:\n",
    "                                a1 =f.readline()\n",
    "                                a2 = f.readline()\n",
    "                                print(a1)\n",
    "                                print(a2)\n",
    "                    Here, a1 will print first line and a2 will print second line of the file.\n",
    "'''"
   ]
  },
  {
   "cell_type": "code",
   "execution_count": null,
   "id": "dbda804e-f4e0-410e-8746-ba64634cdce3",
   "metadata": {},
   "outputs": [],
   "source": [
    "#Q21. What is the logging module in Python used for?\n",
    "\"\"\"\n",
    "Ans21. The logging module in python is used for several reasons:\n",
    "       \n",
    "        1. Finding Bugs :\n",
    "                        Helps you see what went wrong when your program has issues.\n",
    "        2. Monitoring :\n",
    "                        Logging helps you monitoring the behaviour of your program in real-time.\n",
    "                        So that you can keep an eye on critical events, performance metrics and \n",
    "                        other important aspect of your program.\n",
    "        3. Tracking Errors:\n",
    "                        It records the errors so that you can understand the root cause of the program\n",
    "                        and fix them later.\n",
    "        4. Performance Analysis:\n",
    "                        LOGGING helps you to see how well your program is running and helps in \n",
    "                        indentify the bottlenecks or areas which need optimization.\n",
    "        5. Historical Data:\n",
    "                        It Keeps the records of program execution, which is usefull for looking\n",
    "                        past behaviour, troubleshooting issues and make informed decisions.\n",
    "        6. Communictaion :\n",
    "                        Logs can be used to communicate important information to developer,\n",
    "                        sytem admins and other satkeholder.\n",
    "\"\"\""
   ]
  },
  {
   "cell_type": "code",
   "execution_count": null,
   "id": "c28514b9-2c89-4ef2-a78e-291b4a9ff717",
   "metadata": {},
   "outputs": [],
   "source": [
    "#Q22.  What is the os module in Python used for in file handling?\n",
    "\"\"\"\n",
    "An22. In file handling, the os module offers various functions to perform tasks such as creating,\n",
    "      deleting, and manipulating files and directories.\n",
    "      The common uses of os are:\n",
    "\n",
    "      1. Creating directories :\n",
    "                              import os\n",
    "                              os.mkdir(\"directory name\")\n",
    "      2. Remove file and directory :\n",
    "                              imprt os\n",
    "                              os.remove(\"file_name.txt\")\n",
    "                              os.rmdir(\"empty_directory\") #deletes an empty directory\n",
    "      3. Rename file :\n",
    "                              import os\n",
    "                              os.rename(\"old_name.txt\",\"new_name.txt\")\n",
    "      4. Checking file existance :\n",
    "                              import os\n",
    "                              os.path.exists(\"file_name.txt\")\n",
    "      5. To know the size :\n",
    "                              import os\n",
    "                              os.path.getsize(\"file_name.txt\")\n",
    "                              \n",
    "        \n",
    "\"\"\""
   ]
  },
  {
   "cell_type": "code",
   "execution_count": null,
   "id": "1951a624-78ae-446f-b2ec-19e1208b22ee",
   "metadata": {},
   "outputs": [],
   "source": [
    "#Q23.  What are the challenges associated with memory management in Python?\n",
    "\"\"\"\n",
    "Ans23.\n",
    "        1. Garbage collection overhead :\n",
    "                    The garbage collector can slow down your program because it needs to check\n",
    "                    and clean up unused objects.\n",
    "        2. Circular reference :\n",
    "                    Sometimes objects reference each other, creating a loop. The garbage collector\n",
    "                    has to work harder to clean these up.\n",
    "        3. Memory Leaks :\n",
    "                    Even with automatic memory managments, sometimes objects are not properly cleaned\n",
    "                    up, causing memory to be wasted.\n",
    "        4. Fragmentation :\n",
    "                    Over time, memory can get scattered, making it less efficient to use.\n",
    "        5. Global Interpreter Lock(GIL) :\n",
    "                    In python, only one thread can execute at a time, which can limit performance\n",
    "                    in multi thread programs.\n",
    "\"\"\""
   ]
  },
  {
   "cell_type": "code",
   "execution_count": null,
   "id": "410ed3f8-ee96-4e4c-90df-8a18ed3afed0",
   "metadata": {},
   "outputs": [],
   "source": [
    "#Q24. How do you raise an exception manually in Python.\n",
    "\"\"\"\n",
    "Ans24. In python you can raise an exception manually using the raise statement. This allow you to create\n",
    "       and throw an exception at any point in your code.\n",
    "\"\"\"\n",
    "#Example:  In python number can be positve or negtive. It doesn't show an error, So in this example we manually \n",
    " #         raise a exception and print the custom error.\n"
   ]
  },
  {
   "cell_type": "code",
   "execution_count": 47,
   "id": "a68def23-396a-497f-896d-c729fbc81b5f",
   "metadata": {},
   "outputs": [],
   "source": [
    "# For Example\n",
    "class AgeValidate(Exception):\n",
    "    def __init__(self,msg):\n",
    "        self.msg = msg\n"
   ]
  },
  {
   "cell_type": "code",
   "execution_count": 49,
   "id": "8a65221e-b0e0-4088-90bd-9edf7878e007",
   "metadata": {},
   "outputs": [],
   "source": [
    "# Ans 24 Example\n",
    "def age_validate(age):\n",
    "                                #here age_validate function raise a error if age  is greater than 200 and                \n",
    "                                # age is less than zero\n",
    "    if age <0:\n",
    "        raise AgeValidate(\"Age can't be negative\")\n",
    "    elif age > 200 :\n",
    "        raise AgeValidate(\"not possible\")\n",
    "    else:\n",
    "        print(\"Age is Valid\")"
   ]
  },
  {
   "cell_type": "code",
   "execution_count": 57,
   "id": "93b7f81f-a1da-4304-b808-955152179ae5",
   "metadata": {},
   "outputs": [
    {
     "name": "stdin",
     "output_type": "stream",
     "text": [
      "Enter your age 12\n"
     ]
    },
    {
     "name": "stdout",
     "output_type": "stream",
     "text": [
      "Age is Valid\n"
     ]
    }
   ],
   "source": [
    "# Ans 24 Example\n",
    "try:\n",
    "    a = int(input(\"Enter your age\"))\n",
    "    age_validate(a)\n",
    "except AgeValidate as e:\n",
    "    print(e)\n"
   ]
  },
  {
   "cell_type": "code",
   "execution_count": 1,
   "id": "9188e944-ad64-4c95-a0cc-c85e061561bb",
   "metadata": {},
   "outputs": [],
   "source": [
    "#PRACTICAL QUESTIONS"
   ]
  },
  {
   "cell_type": "code",
   "execution_count": 18,
   "id": "34756b23-369e-493d-97b6-ff4631150c2a",
   "metadata": {},
   "outputs": [],
   "source": [
    "#Q1. How can you open a file for writing in Python and write a string to it?\n",
    "#Ans1. \n",
    "with open(\"new_file.txt\",\"w\") as f:\n",
    "    f.write(\"Hello my name is harsh\\n\")\n",
    "    f.write(\"i am learning data analyst\\n\")\n",
    "    \n",
    "\n"
   ]
  },
  {
   "cell_type": "code",
   "execution_count": 20,
   "id": "fbb8b067-1720-40ab-ac2b-2eb038a135a0",
   "metadata": {},
   "outputs": [
    {
     "name": "stdout",
     "output_type": "stream",
     "text": [
      "Hello my name is harsh\n",
      "\n",
      "i am learning data analyst\n",
      "\n"
     ]
    }
   ],
   "source": [
    "#Q2. Write a Python program to read the contents of a file and print each line?\n",
    "#Ans2. \n",
    "with open(\"new_file.txt\",\"r\") as f:\n",
    "    a = f.readline()\n",
    "    b= f.readline()\n",
    "    print(a)\n",
    "    print(b)\n"
   ]
  },
  {
   "cell_type": "code",
   "execution_count": 35,
   "id": "d123eaef-6110-4878-986a-cf172234b8e3",
   "metadata": {},
   "outputs": [
    {
     "name": "stdout",
     "output_type": "stream",
     "text": [
      "This error due to [Errno 2] No such file or directory: 'new_2.txt'\n"
     ]
    }
   ],
   "source": [
    "#Q3. How would you handle a case where the file doesn't exist while trying to open it for reading.\n",
    "#Ans3.\n",
    "\n",
    "try:\n",
    "    f = open(\"new_2.txt\",\"r\")\n",
    "    f.read()\n",
    "except FileNotFoundError as e:\n",
    "    print(\"This error due to\",e)"
   ]
  },
  {
   "cell_type": "code",
   "execution_count": 238,
   "id": "8526e1d5-7728-4f4f-9217-e2ee8c8b2e54",
   "metadata": {},
   "outputs": [],
   "source": [
    "#Q4. Write a Python script that reads from one file and writes its content to another file?\n",
    "#Ans4. \n",
    "import shutil\n",
    "def copy_file(source_path,destination_path):\n",
    "    \"\"\"Copy the contents of one file to another file\n",
    "    Parameter:\n",
    "    source_path (str): Path of the source file\n",
    "    destination_path(str): Path of the destination file.\n",
    "    \"\"\"\n",
    "    try:\n",
    "        shutil.copy(source_path,destination_path)\n",
    "        print(\"contents copied from\", source_path,\"to\",destination_path,\"successfully\")\n",
    "    except FileNotFoundError:\n",
    "        print(\"source file not found\")\n",
    "    except IOError as e:\n",
    "        print(\"An I/O error occured\",e)\n",
    "    except exception as e:\n",
    "        print(\"An unexpected error occur\",e)"
   ]
  },
  {
   "cell_type": "code",
   "execution_count": 240,
   "id": "edd7bb70-086a-4ccb-82d7-5822f12cc1d9",
   "metadata": {},
   "outputs": [
    {
     "name": "stdout",
     "output_type": "stream",
     "text": [
      "contents copied from new_file.txt to new_file34.txt successfully\n"
     ]
    }
   ],
   "source": [
    "copy_file(\"new_file.txt\",\"new_file34.txt\")"
   ]
  },
  {
   "cell_type": "code",
   "execution_count": 54,
   "id": "6626c659-1cd1-4470-8291-603044f8f000",
   "metadata": {},
   "outputs": [
    {
     "name": "stdout",
     "output_type": "stream",
     "text": [
      "This error due to division by zero\n"
     ]
    }
   ],
   "source": [
    "#Q5.  How would you catch and handle division by zero error in Python?\n",
    "#Ans5.\n",
    "\n",
    "try:\n",
    "    10/0\n",
    "except ZeroDivisionError as e:\n",
    "    print(\"This error due to\",e)\n"
   ]
  },
  {
   "cell_type": "code",
   "execution_count": 242,
   "id": "a0cb385f-8c17-4f03-8ddf-ff8848b62059",
   "metadata": {},
   "outputs": [],
   "source": [
    "#Q6.Write a Python program that logs an error message to a log file when a division by zero exception occurs?\n",
    "#Ans6.\n",
    "import logging\n",
    "logging.basicConfig(filename = \"q6.log\",level = logging.INFO,format = '%(asctime)s-%(levelname)s-%(message)s')\n",
    "try:\n",
    "    30/0\n",
    "except ZeroDivisionError  as e:\n",
    "    logging.error(e)\n",
    "\n",
    "\n",
    "        "
   ]
  },
  {
   "cell_type": "code",
   "execution_count": 41,
   "id": "10689274-ac8c-4035-8a29-2edb946ffb7e",
   "metadata": {},
   "outputs": [
    {
     "name": "stderr",
     "output_type": "stream",
     "text": [
      "ERROR:root:This is an error message\n",
      "WARNING:root:this is warning message\n"
     ]
    }
   ],
   "source": [
    "#Q7.How do you log information at different levels (INFO, ERROR, WARNING) in Python using the logging module?\n",
    "#Ans7.\n",
    "\n",
    "import logging\n",
    "logging.basicConfig(filename = \"1237.log\", level = logging.INFO, format = '%(asctime)s-%(levelname)s-%(message)s')\n",
    "\n",
    "logging.info(\"This is an info message\")\n",
    "logging.error(\"This is an error message\")\n",
    "logging.warning(\"this is warning message\")\n"
   ]
  },
  {
   "cell_type": "code",
   "execution_count": 20,
   "id": "b1239ca7-7a16-494b-8db4-b4dc04908859",
   "metadata": {},
   "outputs": [],
   "source": [
    "#Q8. Write a program to handle a file opening error using exception handling.\n",
    "#Ans8. \n",
    "def file_read(path):\n",
    "    try:\n",
    "        with open(path,'r') as f:\n",
    "            a1 = f.read()\n",
    "            print(a1)\n",
    "    except FileNotFoundError as e:\n",
    "        print(f'The file {path} does not exist')\n",
    "    except Exception as e:\n",
    "        print(\"This error due to \",e)"
   ]
  },
  {
   "cell_type": "code",
   "execution_count": 22,
   "id": "6f097ea2-0b8f-4bac-8a72-de10093d75df",
   "metadata": {},
   "outputs": [
    {
     "name": "stdout",
     "output_type": "stream",
     "text": [
      "The file new_file2.txt does not exist\n"
     ]
    }
   ],
   "source": [
    "file_read('new_file2.txt')"
   ]
  },
  {
   "cell_type": "code",
   "execution_count": 80,
   "id": "86e949c0-f70b-4532-831e-42a5d99a65ed",
   "metadata": {},
   "outputs": [],
   "source": [
    "#Q9.  How can you read a file line by line and store its content in a list in Python\n",
    "\n",
    "with open(\"20_question.txt\",'r') as f:\n",
    " new_1 = f.readlines()\n",
    " "
   ]
  },
  {
   "cell_type": "code",
   "execution_count": 82,
   "id": "1a9fc34a-72d8-49b7-a020-2b93f04ecc0a",
   "metadata": {},
   "outputs": [],
   "source": [
    "l = []\n",
    "for i in new_1:\n",
    "    l.append(i)"
   ]
  },
  {
   "cell_type": "code",
   "execution_count": 84,
   "id": "d806aeac-3db8-4c7b-ab0a-c56c2d5d2aa9",
   "metadata": {},
   "outputs": [
    {
     "data": {
      "text/plain": [
       "['My name is harsh\\n',\n",
       " 'Para Commando Recruitment 2025 is conducted by PRTC i.e.\\n',\n",
       " 'Pre-Recruit Training Course for the recruitment of Para Commando Officers in India. Para commandos are the special forces of Indian army. \\n',\n",
       " 'These para troopers are selected through tough selection and are known for their high Physical fitness, specialized training and continuous preparation.\\n',\n",
       " 'Wearing the maroon beret is a recognition of the ELITE that distinguishes them from the rest.']"
      ]
     },
     "execution_count": 84,
     "metadata": {},
     "output_type": "execute_result"
    }
   ],
   "source": [
    "l"
   ]
  },
  {
   "cell_type": "code",
   "execution_count": 112,
   "id": "665e56d4-b7a8-4ef1-974b-44e65015ae6f",
   "metadata": {},
   "outputs": [],
   "source": [
    "#Q10 How can you append data to an existing file in Python?\n",
    "\n",
    "with open(\"new_file.txt\",\"a\") as f:\n",
    "    f.write(\"I live in delhi\\n\")\n",
    "    f.write(\"I tring to give my best\\n\")"
   ]
  },
  {
   "cell_type": "code",
   "execution_count": 138,
   "id": "e32688a5-7362-4589-91a7-46e33226446a",
   "metadata": {},
   "outputs": [
    {
     "name": "stdout",
     "output_type": "stream",
     "text": [
      "You try to call the key which doesn't exist\n"
     ]
    }
   ],
   "source": [
    "#Q11. Write a Python program that uses a try-except block to handle an error when attempting to access a dictionary key that doesn't exist\n",
    "#Ans11. \n",
    "a = {\"name\":\"akki\", \"state\" : \"delhi\", \"age\" : 25}\n",
    "\n",
    "try:\n",
    "    a[\"city\"]\n",
    "except KeyError as e:\n",
    "    print(\"You try to call the key which doesn't exist\")\n",
    "except Exception as e:\n",
    "    print(\"This error due to\",e)\n",
    "\n"
   ]
  },
  {
   "cell_type": "code",
   "execution_count": 27,
   "id": "23471f61-5995-422b-9166-c7b5ed21baee",
   "metadata": {},
   "outputs": [],
   "source": [
    "#Q12.  Write a program that demonstrates using multiple except blocks to handle different types of exceptions?\n",
    "#Ans12.\n",
    "def handl1_exceptions(a,b):\n",
    "    try:\n",
    "        result = a/b\n",
    "        print(result)\n",
    "    except NameError as e:\n",
    "        print(\"This error due to name is not defined\")\n",
    "    except TypeError as e:\n",
    "        print(\"you can't divide by string \")\n",
    "    except ZeroDivisionError as e:\n",
    "        print(\"Error due to divison by zero\")\n",
    "    except Exception as e:\n",
    "        print(\"This error due to\",e)\n",
    "    "
   ]
  },
  {
   "cell_type": "code",
   "execution_count": 50,
   "id": "374159c2-15da-4394-ad09-b2667e414780",
   "metadata": {},
   "outputs": [
    {
     "name": "stdout",
     "output_type": "stream",
     "text": [
      "you can't divide by string \n"
     ]
    }
   ],
   "source": [
    "handl1_exceptions(2,\"0\")\n"
   ]
  },
  {
   "cell_type": "code",
   "execution_count": 52,
   "id": "d59b1e55-47ad-4515-9512-2182893fd71e",
   "metadata": {},
   "outputs": [
    {
     "name": "stdout",
     "output_type": "stream",
     "text": [
      "Error due to divison by zero\n"
     ]
    }
   ],
   "source": [
    "handl1_exceptions(2,0)"
   ]
  },
  {
   "cell_type": "code",
   "execution_count": 130,
   "id": "c4ee4cf0-5e45-4252-8458-ce9929560228",
   "metadata": {},
   "outputs": [],
   "source": [
    "#Q13. How would you check if a file exists before attempting to read it in Python?\n",
    "#Ans13. \n",
    "import os\n",
    "def file_exist(path):\n",
    "    '''Check if a file exists before attempting to read it\n",
    "    Parameter = \n",
    "    Path(str) = path or name of file \n",
    "    '''\n",
    "    if os.path.exists(path):\n",
    "        print(\"The\",path , \"exist\")\n",
    "    else:\n",
    "        print(\"the\",path ,\"doesn't exist\")\n"
   ]
  },
  {
   "cell_type": "code",
   "execution_count": 136,
   "id": "c4c00d30-076d-44c4-ad06-8184797e30ec",
   "metadata": {},
   "outputs": [
    {
     "name": "stdout",
     "output_type": "stream",
     "text": [
      "The new_file.txt exist\n"
     ]
    }
   ],
   "source": [
    "file_exist(\"new_file.txt\")"
   ]
  },
  {
   "cell_type": "code",
   "execution_count": 24,
   "id": "b321bbb1-3e43-4590-ab14-fe74b4edfa5f",
   "metadata": {},
   "outputs": [],
   "source": [
    "#Q14. Write a program that uses the logging module to log both informational and error messages\n",
    "#Ans14. \n",
    "import logging\n",
    "logging.basicConfig(filename=\"14.log\", level =logging.INFO,format= '%(asctime)s - %(levelname)% - %(message)s')\n",
    "\n",
    "def func4():\n",
    "    try:\n",
    "        logging.info(\"Task started\")\n",
    "\n",
    "        calc = 20+1\n",
    "        logging.info(\"Task completed successfully\",calc)\n",
    "\n",
    "        calc1 = 10/0\n",
    "    except ZeroDivisionError as e :\n",
    "        logging.error(e)\n",
    "    except Exception as e:\n",
    "        logging.error(e)\n",
    "\n",
    "\n",
    "        \n"
   ]
  },
  {
   "cell_type": "code",
   "execution_count": null,
   "id": "3ae18259-a75b-446a-83bf-4605d99ad499",
   "metadata": {},
   "outputs": [],
   "source": []
  },
  {
   "cell_type": "code",
   "execution_count": 140,
   "id": "f1b0f5f8-1e49-4846-a8f5-3f14c186987d",
   "metadata": {},
   "outputs": [],
   "source": [
    "#Q15. Write a Python program that prints the content of a file and handles the case when the file is empty.\n",
    "#Ans15.\n",
    "\n",
    "import os\n",
    "def print_con(path):\n",
    "    if os.path.exists(path): \n",
    "        with open (path,'r') as f:\n",
    "            a1 = f.read()\n",
    "            print(a1)\n",
    "            if os.path.getsize(path) == 0:\n",
    "                print(\"File is empty\")\n",
    "    else:\n",
    "        print(\"file doesnot exist\")\n",
    "    \n",
    "\n",
    "\n"
   ]
  },
  {
   "cell_type": "code",
   "execution_count": 146,
   "id": "6280f6b2-abbe-40b4-b4eb-0534bc60d5bc",
   "metadata": {},
   "outputs": [
    {
     "name": "stdout",
     "output_type": "stream",
     "text": [
      "Hello my name is harsh\n",
      "i am learning data analyst\n",
      "I live in delhiI tring to give my best\n",
      "I live in delhi\n",
      "I tring to give my best\n",
      "I live in delhi\n",
      "I tring to give my best\n",
      "\n"
     ]
    }
   ],
   "source": [
    "print_con(\"new_file.txt\")"
   ]
  },
  {
   "cell_type": "code",
   "execution_count": 7,
   "id": "03efbe45-84d6-488c-8a4a-ca78fa4f89d1",
   "metadata": {},
   "outputs": [
    {
     "name": "stdout",
     "output_type": "stream",
     "text": [
      "Requirement already satisfied: memory_profiler in c:\\users\\harsh\\anaconda3\\lib\\site-packages (0.61.0)\n",
      "Requirement already satisfied: psutil in c:\\users\\harsh\\anaconda3\\lib\\site-packages (from memory_profiler) (5.9.0)\n",
      "Note: you may need to restart the kernel to use updated packages.\n"
     ]
    }
   ],
   "source": [
    "#Q16 Demonstrate how to use memory profiling to check the memory usage of a small program.\n",
    "#Ans16.\n",
    "\n",
    "pip install memory_profiler\n"
   ]
  },
  {
   "cell_type": "code",
   "execution_count": 9,
   "id": "632411d5-bdeb-4201-8534-040797b9032d",
   "metadata": {},
   "outputs": [
    {
     "name": "stdout",
     "output_type": "stream",
     "text": [
      "The memory_profiler extension is already loaded. To reload it, use:\n",
      "  %reload_ext memory_profiler\n"
     ]
    }
   ],
   "source": [
    "#ANS16\n",
    "%load_ext memory_profiler\n"
   ]
  },
  {
   "cell_type": "code",
   "execution_count": 25,
   "id": "c1f2e060-c4c1-4ace-abfe-db611af60520",
   "metadata": {},
   "outputs": [],
   "source": [
    "#ANS16\n",
    "def func16():\n",
    "    l1 = []\n",
    "    for i in range(100000):\n",
    "        l1.append(i)\n",
    "        "
   ]
  },
  {
   "cell_type": "code",
   "execution_count": 29,
   "id": "22c50f50-f046-4c87-8788-9cc76666ca3c",
   "metadata": {},
   "outputs": [
    {
     "name": "stdout",
     "output_type": "stream",
     "text": [
      "peak memory: 132.01 MiB, increment: 0.00 MiB\n"
     ]
    }
   ],
   "source": [
    "#ANS16\n",
    "%memit func16()"
   ]
  },
  {
   "cell_type": "code",
   "execution_count": 43,
   "id": "64761f73-379b-4cd9-b470-981ceb7d4f8e",
   "metadata": {},
   "outputs": [],
   "source": [
    "#Q17. Write a Python program to create and write a list of numbers to a file, one number per line. \n",
    "#Ans17.\n",
    "numbers  = [i for i in range(1,51)]\n",
    "\n",
    "with open(\"Nuber_file.txt\",\"w\") as f:\n",
    "    for i in numbers:\n",
    "        f.write(f\"{i}\\n\")\n",
    "    "
   ]
  },
  {
   "cell_type": "code",
   "execution_count": null,
   "id": "6a2913de-ddcc-4f17-be60-aa15fb3ba4b5",
   "metadata": {},
   "outputs": [],
   "source": []
  },
  {
   "cell_type": "code",
   "execution_count": 18,
   "id": "c7c6c56c-6b50-4c8a-acba-4832ef9a8584",
   "metadata": {},
   "outputs": [
    {
     "name": "stderr",
     "output_type": "stream",
     "text": [
      "WARNING:root:This is a warning message\n",
      "ERROR:root:This is an error message\n",
      "CRITICAL:root:this is a critical message\n"
     ]
    }
   ],
   "source": [
    "#Q18. How would you implement a basic logging setup that logs to a file with rotation after 1MB.\n",
    "#Ans18. \n",
    "import logging\n",
    "from logging.handlers import RotatingFileHandler\n",
    "\n",
    "#Create a logger\n",
    "logger = logging.getLogger('my_logger')\n",
    "logger.setLevel(logging.DEBUG)\n",
    "\n",
    "#creating a rotating file handler\n",
    "handler = RotatingFileHandler('my_logg.log', maxBytes=1*1024*1024, backupCount= 5)\n",
    "handler.setLevel(logging.DEBUG)\n",
    "\n",
    "#create a formatter and set it for the handler\n",
    "formatter = logging.Formatter('%(asctime)s - %(levelname)s - %(message)s')\n",
    "handler.setFormatter(formatter)\n",
    "\n",
    "#Add the hadnleer to the logger\n",
    "logger.addHandler(handler)\n",
    "\n",
    "#example message\n",
    "logging.debug(\"this is a debus message\")\n",
    "logging.info(\"This is an info message\")\n",
    "logging.warning(\"This is a warning message\")\n",
    "logging.error(\"This is an error message\")\n",
    "logging.critical(\"this is a critical message\")\n"
   ]
  },
  {
   "cell_type": "code",
   "execution_count": 58,
   "id": "8298c5d8-c715-41e2-88f4-6d498585d324",
   "metadata": {},
   "outputs": [
    {
     "name": "stdout",
     "output_type": "stream",
     "text": [
      "Index error list index out of range\n",
      "Key error 'c'\n"
     ]
    }
   ],
   "source": [
    "#Q19. Write a program that handles both IndexError and KeyError using a try-except block.\n",
    "#Ans19.\n",
    "def handle_error():\n",
    "    my_list = [1,2,3]\n",
    "    my_dict = {'a':1,'b':2}\n",
    "\n",
    "    try:\n",
    "        print(my_list[4])\n",
    "    except IndexError  as e:\n",
    "        print(\"Index error\",e)\n",
    "    try:\n",
    "        print(my_dict[\"c\"])\n",
    "    except KeyError as e:\n",
    "        print(\"Key error\",e)\n",
    "\n",
    "if __name__ == \"__main__\":\n",
    "    handle_error()\n"
   ]
  },
  {
   "cell_type": "code",
   "execution_count": 8,
   "id": "3d8014ab-a976-4a7f-b5ee-82ccec5383bc",
   "metadata": {},
   "outputs": [
    {
     "name": "stdout",
     "output_type": "stream",
     "text": [
      "Hello my name is harsh\n",
      "i am learning data analyst\n",
      "I live in delhiI tring to give my best\n",
      "I live in delhi\n",
      "I tring to give my best\n",
      "I live in delhi\n",
      "I tring to give my best\n",
      "\n"
     ]
    }
   ],
   "source": [
    "#Q20. How would you open a file and read its contents using a context manager in Python.\n",
    "#Ans20.\n",
    "with open(\"new_file.txt\",\"r\") as f:\n",
    "    content = f.read()\n",
    "    print(content)\n"
   ]
  },
  {
   "cell_type": "code",
   "execution_count": 54,
   "id": "fd1005df-3959-4ee9-8dca-3954adad633c",
   "metadata": {},
   "outputs": [],
   "source": [
    "#Q21 Write a Python program that reads a file and prints the number of occurrences of a specific word.\n",
    "#Ans21.\n",
    "def count_word(path, word):\n",
    "    count = 0 \n",
    "    with open(path, \"r\")as f:\n",
    "        for i in f:\n",
    "            words = i.split()\n",
    "            count = words.count(word) + count\n",
    "    print (\"The word =>\",word, \"<=occurs\", count,\"times in the file\")\n",
    "\n",
    "\n",
    "\n"
   ]
  },
  {
   "cell_type": "code",
   "execution_count": 56,
   "id": "926ccf6c-5950-4d4f-9aa3-a68ab49f9de2",
   "metadata": {},
   "outputs": [
    {
     "name": "stdout",
     "output_type": "stream",
     "text": [
      "The word => I <=occurs 5 times in the file\n"
     ]
    }
   ],
   "source": [
    "count_word(\"new_file.txt\",\"I\")"
   ]
  },
  {
   "cell_type": "code",
   "execution_count": 42,
   "id": "1334d91d-ffb0-44aa-9405-ce2393480a3b",
   "metadata": {},
   "outputs": [],
   "source": [
    "#Q22.  How can you check if a file is empty before attempting to read its contents.\n",
    "#Ans22. \n",
    "import os\n",
    "def check_file(path):\n",
    "    import os\n",
    "def check_file(path):\n",
    "    '''Check if a file empty before attempting to read it\n",
    "    Parameter = \n",
    "    Path(str) = path or name of file\n",
    "    '''\n",
    "    if os.path.exists(path):\n",
    "        if os.path.getsize(path) == 0:\n",
    "            print(\"File is empty\")\n",
    "        elif os.path.getsize(path) != 0:\n",
    "            print(\"File is not empty  \")\n",
    "    else:\n",
    "        print(\"File doesn't exist\")\n",
    "    "
   ]
  },
  {
   "cell_type": "code",
   "execution_count": 48,
   "id": "57d88d48-866a-436f-8a9b-83144c99c20e",
   "metadata": {},
   "outputs": [
    {
     "name": "stdout",
     "output_type": "stream",
     "text": [
      "File is empty\n"
     ]
    }
   ],
   "source": [
    "check_file(\"q16.txt\")"
   ]
  },
  {
   "cell_type": "code",
   "execution_count": 22,
   "id": "c302eb37-107b-46cc-b9b4-26800f0152ec",
   "metadata": {},
   "outputs": [],
   "source": [
    "#Q23 Write a Python program that writes to a log file when an error occurs during file handling.\n",
    "import logging \n",
    "logging.basicConfig(filename = \"q23.log\",level = logging.INFO, format = \"%(asctime)s-%(levelname)s-%(message)s\")\n"
   ]
  },
  {
   "cell_type": "code",
   "execution_count": 30,
   "id": "ff1159ad-cd7d-431c-8470-30082836529f",
   "metadata": {},
   "outputs": [],
   "source": [
    "import os\n",
    "def read_file(path):\n",
    "    try:\n",
    "        \n",
    "        with open(path,'r') as f:\n",
    "                  a1 = f.read()\n",
    "                  logging.info(\"file is run perfectly\")  \n",
    "                  print(a1)\n",
    "    except FileNotFoundError as e:\n",
    "        logging.error(\"file not found\")\n",
    "    except IOError as e:\n",
    "        logging.error(\"I/O error occured\")\n",
    "    except PermissionError as e:\n",
    "        logging.error(\"you don't have permission to open this file\")\n",
    "    except Exception as e:\n",
    "        logging.error(\"This error due to\",e)\n",
    "            \n",
    "    "
   ]
  },
  {
   "cell_type": "code",
   "execution_count": 40,
   "id": "934cf22f-de18-4c12-b5b8-35f849596b93",
   "metadata": {},
   "outputs": [],
   "source": [
    "read_file(\"new_file.txt\")"
   ]
  },
  {
   "cell_type": "code",
   "execution_count": null,
   "id": "3882f742-34f7-4ab1-b94b-0fdb2dd570f7",
   "metadata": {},
   "outputs": [],
   "source": []
  }
 ],
 "metadata": {
  "kernelspec": {
   "display_name": "Python [conda env:base] *",
   "language": "python",
   "name": "conda-base-py"
  },
  "language_info": {
   "codemirror_mode": {
    "name": "ipython",
    "version": 3
   },
   "file_extension": ".py",
   "mimetype": "text/x-python",
   "name": "python",
   "nbconvert_exporter": "python",
   "pygments_lexer": "ipython3",
   "version": "3.12.7"
  }
 },
 "nbformat": 4,
 "nbformat_minor": 5
}
